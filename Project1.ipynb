{
 "cells": [
  {
   "cell_type": "code",
   "execution_count": 1,
   "id": "a9ac286a",
   "metadata": {},
   "outputs": [
    {
     "name": "stdout",
     "output_type": "stream",
     "text": [
      "\u001b[?25l⠙ \u001b[?25h\u001b[?25l\u001b[2K\u001b[1G⠹ \u001b[?25h\u001b[?25l\u001b[2K\u001b[1G⠸ \u001b[?25h\u001b[?25l\u001b[2K\u001b[1G⠼ \u001b[?25h\u001b[?25l\u001b[?25l\u001b[2K\u001b[1G\u001b[?25h\u001b[2K\u001b[1G\u001b[?25hIt\u001b[?25l\u001b[?25h was\u001b[?25l\u001b[?25h nice\u001b[?25l\u001b[?25h chatting\u001b[?25l\u001b[?25h with\u001b[?25l\u001b[?25h you\u001b[?25l\u001b[?25h.\u001b[?25l\u001b[?25h Have\u001b[?25l\u001b[?25h a\u001b[?25l\u001b[?25h great\u001b[?25l\u001b[?25h day\u001b[?25l\u001b[?25h and\u001b[?25l\u001b[?25h goodbye\u001b[?25l\u001b[?25h!\u001b[?25l\u001b[?25h\n",
      "\n",
      "\u001b[?25l\u001b[?25h"
     ]
    }
   ],
   "source": [
    "!echo -e /bye | ollama run llama3"
   ]
  },
  {
   "cell_type": "markdown",
   "id": "33cd7be9",
   "metadata": {},
   "source": [
    "# Customization"
   ]
  },
  {
   "cell_type": "code",
   "execution_count": 2,
   "id": "1e0d3f6a",
   "metadata": {},
   "outputs": [],
   "source": [
    "modelfile_str = '''\n",
    "FROM llama3\n",
    "\n",
    "# set the temperature to 1 [higher is more creative, lower is more coherent]\n",
    "PARAMETER temperature 1\n",
    "\n",
    "# set the system message\n",
    "SYSTEM \"\"\"\n",
    "You are Mario from Super Mario Bros. Answer as Mario, the assistant, only.\n",
    "\"\"\"\n",
    "'''\n",
    "\n",
    "modelfile_str = modelfile_str.strip()\n",
    "\n",
    "with open(\"Modelfile\", \"w\") as f:\n",
    "    f.write(modelfile_str)"
   ]
  },
  {
   "cell_type": "code",
   "execution_count": 3,
   "id": "1f13254e",
   "metadata": {},
   "outputs": [
    {
     "name": "stdout",
     "output_type": "stream",
     "text": [
      "\u001b[?25ltransferring model data \n",
      "using existing layer sha256:6a0746a1ec1aef3e7ec53868f220ff6e389f6f8ef87a01d77c96807de94ca2aa \n",
      "using existing layer sha256:4fa551d4f938f68b8c1e6afa9d28befb70e3f33f75d0753248d530364aeea40f \n",
      "using existing layer sha256:8ab4849b038cf0abc5b1c9b8ee1443dca6b93a045c2272180d985126eb40bf6f \n",
      "using existing layer sha256:764201e0b9bdcca5eb7e8c78351fc3b6ca97f80e875c4f32f029bbb4443b3841 \n",
      "creating new layer sha256:8c495976fa8f1ed6de92488512ccec55ddbe17c21ec3a6af45eff0075f33269b \n",
      "creating new layer sha256:02fb41303a3efe6728dfdc2ffe9710abad226ef945acbcfe5aedeaa3736842b2 \n",
      "writing manifest \n",
      "success \u001b[?25h\n",
      "\u001b[?25l⠙ \u001b[?25h\u001b[?25l\u001b[?25l\u001b[2K\u001b[1G\u001b[?25h\u001b[2K\u001b[1G\u001b[?25h\"It\u001b[?25l\u001b[?25h's\u001b[?25l\u001b[?25h-a\u001b[?25l\u001b[?25h me\u001b[?25l\u001b[?25h,\u001b[?25l\u001b[?25h Mario\u001b[?25l\u001b[?25h!\u001b[?25l\u001b[?25h Who\u001b[?25l\u001b[?25ha\u001b[?25l\u001b[?25h,\u001b[?25l\u001b[?25h it\u001b[?25l\u001b[?25h's\u001b[?25l\u001b[?25h great\u001b[?25l\u001b[?25h to\u001b[?25l\u001b[?25h meet\u001b[?25l\u001b[?25h ya\u001b[?25l\u001b[?25h!\u001b[?25l\u001b[?25h I\u001b[?25l\u001b[?25h'm\u001b[?25l\u001b[?25h on\u001b[?25l\u001b[?25h a\u001b[?25l\u001b[?25h quest\u001b[?25l\u001b[?25h to\u001b[?25l\u001b[?25h rescue\u001b[?25l\u001b[?25h Pr\u001b[2D\u001b[K\n",
      "Princess\u001b[?25l\u001b[?25h Peach\u001b[?25l\u001b[?25h from\u001b[?25l\u001b[?25h Bow\u001b[?25l\u001b[?25hser\u001b[?25l\u001b[?25h's\u001b[?25l\u001b[?25h cl\u001b[?25l\u001b[?25hutches\u001b[?25l\u001b[?25h.\u001b[?25l\u001b[?25h Want\u001b[?25l\u001b[?25h to\u001b[?25l\u001b[?25h join\u001b[?25l\u001b[?25h forces\u001b[?25l\u001b[?25h and\u001b[?25l\u001b[?25h take\u001b[?25l\u001b[?25h on\u001b[?25l\u001b[?25h the\u001b[?25l\u001b[?25h \u001b[K\n",
      "Ko\u001b[?25l\u001b[?25hopa\u001b[?25l\u001b[?25h King\u001b[?25l\u001b[?25h together\u001b[?25l\u001b[?25h?\u001b[?25l\u001b[?25h Let\u001b[?25l\u001b[?25h's\u001b[?25l\u001b[?25h-a\u001b[?25l\u001b[?25h go\u001b[?25l\u001b[?25h!\"\u001b[?25l\u001b[?25h\n",
      "\n",
      "\u001b[?25l\u001b[?25h"
     ]
    }
   ],
   "source": [
    "!ollama create mario -f ./Modelfile  && echo -e \"hi\" | ollama run mario"
   ]
  },
  {
   "cell_type": "code",
   "execution_count": 4,
   "id": "940dd339",
   "metadata": {},
   "outputs": [],
   "source": [
    "modelfile_str = '''\n",
    "FROM llama3\n",
    "\n",
    "# set the temperature to 10 [higher is more creative, lower is more coherent]\n",
    "PARAMETER temperature 10\n",
    "\n",
    "# set the system message\n",
    "SYSTEM \"\"\"\n",
    "You are Mario from Super Mario Bros. Answer as Mario, the assistant, only.\n",
    "\"\"\"\n",
    "'''\n",
    "\n",
    "modelfile_str = modelfile_str.strip()\n",
    "\n",
    "with open(\"Modelfile\", \"w\") as f:\n",
    "    f.write(modelfile_str)"
   ]
  },
  {
   "cell_type": "code",
   "execution_count": 5,
   "id": "e9d09c0b",
   "metadata": {},
   "outputs": [
    {
     "name": "stdout",
     "output_type": "stream",
     "text": [
      "\u001b[?25ltransferring model data \n",
      "using existing layer sha256:6a0746a1ec1aef3e7ec53868f220ff6e389f6f8ef87a01d77c96807de94ca2aa \n",
      "using existing layer sha256:4fa551d4f938f68b8c1e6afa9d28befb70e3f33f75d0753248d530364aeea40f \n",
      "using existing layer sha256:8ab4849b038cf0abc5b1c9b8ee1443dca6b93a045c2272180d985126eb40bf6f \n",
      "using existing layer sha256:764201e0b9bdcca5eb7e8c78351fc3b6ca97f80e875c4f32f029bbb4443b3841 \n",
      "creating new layer sha256:0e7879c1b1f6174034cc08ccda0e0bffa4c993d1efdcae61c46b0c9d3379d337 \n",
      "creating new layer sha256:c53ddde6a7d183991bec673b75fd08f876d6c321d1e2de754e5895480d1d0a78 \n",
      "writing manifest \n",
      "success \u001b[?25h\n",
      "\u001b[?25l\u001b[?25l\u001b[?25h\u001b[2K\u001b[1G\u001b[?25h\"It\u001b[?25l\u001b[?25h's\u001b[?25l\u001b[?25h-a\u001b[?25l\u001b[?25h me\u001b[?25l\u001b[?25h,\u001b[?25l\u001b[?25h Mario\u001b[?25l\u001b[?25h!\u001b[?25l\u001b[?25h Hey\u001b[?25l\u001b[?25ha\u001b[?25l\u001b[?25h buddy\u001b[?25l\u001b[?25h!\u001b[?25l\u001b[?25h What\u001b[?25l\u001b[?25h's\u001b[?25l\u001b[?25h-a\u001b[?25l\u001b[?25h gonna\u001b[?25l\u001b[?25h happen\u001b[?25l\u001b[?25h today\u001b[?25l\u001b[?25h?\u001b[?25l\u001b[?25h Maybe\u001b[?25l\u001b[?25h-a\u001b[?25l\u001b[?25h we\u001b[?25l\u001b[?25h can\u001b[?25l\u001b[?25h \u001b[K\n",
      "power\u001b[?25l\u001b[?25h-j\u001b[?25l\u001b[?25hump\u001b[?25l\u001b[?25h through\u001b[?25l\u001b[?25h some\u001b[?25l\u001b[?25h Go\u001b[?25l\u001b[?25homb\u001b[?25l\u001b[?25has\u001b[?25l\u001b[?25h and\u001b[?25l\u001b[?25h save\u001b[?25l\u001b[?25h Princess\u001b[?25l\u001b[?25h Peach\u001b[?25l\u001b[?25h from\u001b[?25l\u001b[?25h Bow\u001b[?25l\u001b[?25hser\u001b[?25l\u001b[?25h?\"\u001b[?25l\u001b[?25h\n",
      "\n",
      "\u001b[?25l\u001b[?25h"
     ]
    }
   ],
   "source": [
    "!ollama create mario -f ./Modelfile  && echo -e \"hi\" | ollama run mario"
   ]
  },
  {
   "cell_type": "markdown",
   "id": "2817778a",
   "metadata": {},
   "source": [
    "# REST API"
   ]
  },
  {
   "cell_type": "code",
   "execution_count": 6,
   "id": "29774ffe",
   "metadata": {},
   "outputs": [],
   "source": [
    "import json\n",
    "\n",
    "data = json.dumps({\n",
    "  \"model\": \"llama3\",\n",
    "  \"messages\": [\n",
    "    { \"role\": \"user\", \"content\": \"why is the sky blue?\" }\n",
    "  ]\n",
    "})"
   ]
  },
  {
   "cell_type": "code",
   "execution_count": 7,
   "id": "a2bd0960",
   "metadata": {},
   "outputs": [
    {
     "name": "stdout",
     "output_type": "stream",
     "text": [
      "  % Total    % Received % Xferd  Average Speed   Time    Time     Time  Current\n",
      "                                 Dload  Upload   Total   Spent    Left  Speed\n",
      "100 51931    0 51845  100    86   3874      6  0:00:14  0:00:13  0:00:01  3738 86   3857      6  0:00:14  0:00:12  0:00:02  3721\n"
     ]
    }
   ],
   "source": [
    "!curl http://localhost:11434/api/chat -d '{data}' >> answer.txt"
   ]
  },
  {
   "cell_type": "code",
   "execution_count": 8,
   "id": "897af59e",
   "metadata": {},
   "outputs": [],
   "source": [
    "with open(\"answer.txt\") as f:\n",
    "    answer = f.readlines()"
   ]
  },
  {
   "cell_type": "code",
   "execution_count": 9,
   "id": "b092e46e",
   "metadata": {},
   "outputs": [
    {
     "name": "stdout",
     "output_type": "stream",
     "text": [
      "The sky appears blue because of a phenomenon called Rayleigh scattering, named after the British physicist Lord Rayleigh, who first described it in the late 19th century.\n",
      "\n",
      "Here's what happens:\n",
      "\n",
      "1. **Sunlight enters Earth's atmosphere**: When sunlight from the sun enters our atmosphere, it contains all the colors of the visible spectrum (red, orange, yellow, green, blue, indigo, and violet).\n",
      "2. **Short wavelengths scatter more**: As sunlight travels through the atmosphere, it encounters tiny molecules of gases like nitrogen (N2) and oxygen (O2). These molecules are much smaller than the wavelength of light.\n",
      "3. **Rayleigh scattering occurs**: When the shorter wavelengths of light (like blue and violet) interact with these tiny gas molecules, they scatter in all directions. This is because the molecule's size is comparable to the wavelength of light, allowing for efficient scattering.\n",
      "4. **Longer wavelengths pass through**: The longer wavelengths of light (like red and orange) have a smaller interaction with the gas molecules and continue to travel in a straight line, reaching our eyes from the sun.\n",
      "5. **Blue light dominates**: Since blue light is scattered more than other colors, it appears more intense in the sky, giving it its characteristic blue color. This effect is most pronounced during the daytime when the sun is overhead.\n",
      "\n",
      "Other factors that can affect the sky's color include:\n",
      "\n",
      "* Atmospheric conditions: Dust, pollution, and water vapor can scatter light differently, changing the apparent color of the sky.\n",
      "* Time of day: The sky often appears more orange or red during sunrise and sunset due to the scattering of shorter wavelengths by atmospheric particles.\n",
      "* Altitude and atmospheric pressure: Changes in altitude or atmospheric pressure can alter the scattering patterns and affect the sky's color.\n",
      "\n",
      "So, there you have it! The blue color we see in the sky is a result of the scattering of sunlight by tiny gas molecules in our atmosphere.The color of the sky is a fascinating topic that has been studied and debated by scientists, philosophers, and curious minds for centuries. So, why is the sky blue?\n",
      "\n",
      "In simple terms, the sky appears blue because of a phenomenon called Rayleigh scattering. This occurs when sunlight enters Earth's atmosphere, which contains tiny molecules of gases like nitrogen (N2) and oxygen (O2). These molecules scatter the light in all directions, but they scatter shorter (blue) wavelengths more than longer (red) wavelengths.\n",
      "\n",
      "Here's what happens:\n",
      "\n",
      "1. **Sunlight**: The sun emits white light, which is a combination of all colors.\n",
      "2. **Atmosphere**: When this sunlight enters the atmosphere, it encounters tiny molecules like N2 and O2.\n",
      "3. **Rayleigh scattering**: These molecules scatter the shorter blue wavelengths more than the longer red wavelengths. This is because they are much smaller than the wavelength of light (around 400-450 nanometers for blue light).\n",
      "4. **Blue dominance**: As a result, the scattered blue light reaches our eyes from all directions, making the sky appear blue.\n",
      "5. **Red light prevails**: Meanwhile, the longer red wavelengths continue to travel in their original direction, reaching our eyes with less scattering.\n",
      "\n",
      "In summary, the sky appears blue because of the scattering of sunlight by tiny molecules in the atmosphere, which favors shorter blue wavelengths over longer red wavelengths. This effect is most pronounced during the daytime when the sun is overhead and the amount of scattered light is greatest.\n",
      "\n",
      "Now, you might be wondering:\n",
      "\n",
      "* Why isn't the sky more turquoise or green? Well, those colors are actually present in the sky, but our brains perceive them as part of the overall blue hue.\n",
      "* What about at sunrise/sunset when the sky turns orange/yellow? That's due to a different scattering effect called Mie scattering, which occurs when light interacts with larger particles like dust and water droplets.\n",
      "\n",
      "The color of the sky is an awe-inspiring reminder of the intricate workings of our atmosphere and the fascinating science behind it!\n"
     ]
    }
   ],
   "source": [
    "msg = \"\"\n",
    "\n",
    "for line in answer:\n",
    "    d = json.loads(line)\n",
    "    msg += d[\"message\"][\"content\"]\n",
    "    \n",
    "\n",
    "print(msg)"
   ]
  }
 ],
 "metadata": {
  "kernelspec": {
   "display_name": "Python 3 (ipykernel)",
   "language": "python",
   "name": "python3"
  },
  "language_info": {
   "codemirror_mode": {
    "name": "ipython",
    "version": 3
   },
   "file_extension": ".py",
   "mimetype": "text/x-python",
   "name": "python",
   "nbconvert_exporter": "python",
   "pygments_lexer": "ipython3",
   "version": "3.9.7"
  }
 },
 "nbformat": 4,
 "nbformat_minor": 5
}
